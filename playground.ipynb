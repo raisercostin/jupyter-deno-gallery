{
 "cells": [
  {
   "cell_type": "markdown",
   "metadata": {},
   "source": [
    "Using deno kernel for typescript code"
   ]
  },
  {
   "cell_type": "code",
   "execution_count": 1,
   "metadata": {},
   "outputs": [
    {
     "data": {
      "text/html": [
       "<html lang=\"en\"><body><div id=\"table-render\"></div></body></html>"
      ]
     },
     "metadata": {},
     "output_type": "display_data"
    }
   ],
   "source": [
    "import { DOMParser, SVGElement } from \"npm:linkedom\";\n",
    "//import pl from \"npm:nodejs-polars\";\n",
    "import { display } from \"https://deno.land/x/display@v0.1.1/mod.ts\";\n",
    "//import { document } from \"jsr:@ry/jupyter-helper\";\n",
    "//import * as d3 from \"npm:d3\";\n",
    "//import { createCanvas } from \"https://deno.land/x/skia_canvas/mod.ts\";\n",
    "//import * as t from \"https://unpkg.com/tabulator-tables@5.5.0/dist/js/tabulator.js\"\n",
    "import { Tabulator } from \"https://esm.sh/tabulator-tables@5.5.0\";\n",
    "// Section 1: Define TSV data and parse it\n",
    "const tsvData = `field1\tfield2\tlabel\n",
    "10\t20\tA\n",
    "15\t25\tB\n",
    "20\t30\tC`;\n",
    "\n",
    "const [header, ...rows] = tsvData.trim().split(\"\\n\");\n",
    "const columns = header.split(\"\\t\");\n",
    "const records = rows.map(line => {\n",
    "  const values = line.split(\"\\t\");\n",
    "  return Object.fromEntries(values.map((v, i) => [columns[i], isNaN(v) ? v : Number(v)]));\n",
    "});\n",
    "const document = new DOMParser().parseFromString(\n",
    "  `<!DOCTYPE html><html lang=\"en\"><body><div id=\"table-render\"></div></body></html>`,\n",
    "  \"text/html\",\n",
    ");\n",
    "// Section 2: Render table using Tabulator for interactive UI\n",
    "// Load Tabulator CSS\n",
    "// const tabulatorCSS = document.createElement(\"link\");\n",
    "// tabulatorCSS.rel = \"stylesheet\";\n",
    "// tabulatorCSS.href = \"https://unpkg.com/tabulator-tables@5.5.0/dist/css/tabulator.min.css\";\n",
    "// document.head.appendChild(tabulatorCSS);\n",
    "\n",
    "// // Create container for the table\n",
    "// const container = document.createElement(\"div\");\n",
    "// container.id = \"table-render\";\n",
    "// container.style.height = \"300px\";\n",
    "// document.body.appendChild(container);\n",
    "\n",
    "// Load Tabulator JS and initialize table\n",
    "// const tabulatorScript = document.createElement(\"script\");\n",
    "// tabulatorScript.src = \"https://unpkg.com/tabulator-tables@5.5.0/dist/js/tabulator.min.js\";\n",
    "// tabulatorScript.onload = () => {\n",
    "  // @ts-ignore\n",
    "\n",
    "const table = new Tabulator(\"#table-render\", {\n",
    "    data: records,\n",
    "    layout: \"fitColumns\",\n",
    "    columns: columns.map(col => ({ title: col, field: col, sorter: \"number\", headerFilter: true })),\n",
    "  });\n",
    "// };\n",
    "//document.head.appendChild(tabulatorScript);\n",
    "// console.log(document.documentElement.outerHTML);\n",
    "//await display(document.documentElement)\n",
    "//await display({\"text/html\":document});\n",
    "await Deno.jupyter.display({\n",
    "  \"text/html\": document.documentElement.outerHTML,\n",
    "  }, { raw: true });"
   ]
  },
  {
   "cell_type": "code",
   "execution_count": 2,
   "metadata": {},
   "outputs": [
    {
     "ename": "TypeError",
     "evalue": "Module not found \"https://deno.land/x/jupyter/mod.ts\".",
     "output_type": "error",
     "traceback": [
      "Stack trace:",
      "TypeError: Module not found \"https://deno.land/x/jupyter/mod.ts\".",
      "    at async <anonymous>:1:41"
     ]
    }
   ],
   "source": [
    "import * as JavaScript from \"https://deno.land/x/jupyter/mod.ts\";\n",
    "\n",
    "const html_code = `\n",
    "    <link href=\"https://unpkg.com/tabulator-tables@5.5.0/dist/css/tabulator.min.css\" rel=\"stylesheet\">\n",
    "    <script src=\"https://unpkg.com/tabulator-tables@5.5.0/dist/js/tabulator.min.js\"></script>\n",
    "    <div id=\"example-table\"></div>\n",
    "    <script>\n",
    "        document.addEventListener(\"DOMContentLoaded\", function() {\n",
    "            new Tabulator(\"#example-table\", {\n",
    "                data: [{ id: 1, name: \"Alice\" }, { id: 2, name: \"Bob\" }],\n",
    "                columns: [\n",
    "                    { title: \"ID\", field: \"id\" },\n",
    "                    { title: \"Name\", field: \"name\" }\n",
    "                ]\n",
    "            });\n",
    "        });\n",
    "    </script>\n",
    "`;\n",
    "\n",
    "JavaScript.display(html_code);"
   ]
  },
  {
   "cell_type": "code",
   "execution_count": 1,
   "metadata": {},
   "outputs": [
    {
     "name": "stderr",
     "output_type": "stream",
     "text": [
      "Failed to find anywidget frontend version: NotFound: The system cannot find the path specified. (os error 3): readfile 'C:\\Users\\raiser\\AppData\\Roaming\\jupyter\\labextensions\\anywidget\\package.json': The system cannot find the path specified. (os error 3): readfile 'C:\\Users\\raiser\\AppData\\Roaming\\jupyter\\labextensions\\anywidget\\package.json': The system cannot find the path specified. (os error 3)\n"
     ]
    },
    {
     "data": {
      "application/vnd.jupyter.widget-view+json": {
       "model_id": "3198818e-dbd3-49e3-a1fa-e719cead8d92",
       "version_major": 2,
       "version_minor": 1
      }
     },
     "execution_count": 1,
     "metadata": {},
     "output_type": "execute_result"
    }
   ],
   "source": [
    "import { widget } from \"jsr:@anywidget/deno\";\n",
    "\n",
    "const model = widget({\n",
    "\tstate: { letters: \"abcd\" },\n",
    "\timports: `import * as d3 from \"https://esm.sh/d3\";`,\n",
    "\trender: ({ model, el }) => {\n",
    "\t\tconst width = 300;\n",
    "\t\tconst svg = d3.create(\"svg\")\n",
    "\t\t\t.attr(\"width\", width)\n",
    "\t\t\t.attr(\"height\", 33)\n",
    "\t\t\t.attr(\"viewBox\", `0 -20 ${width} 33`);\n",
    "\t\tmodel.on(\"change:letters\", () => {\n",
    "\t\t\tconst t = svg.transition().duration(200);\n",
    "\t\t\tsvg.selectAll(\"text\")\n",
    "\t\t\t\t.data(model.get(\"letters\"), (d) => d)\n",
    "\t\t\t\t.join(\n",
    "\t\t\t\t\t(enter) =>\n",
    "\t\t\t\t\t\tenter.append(\"text\")\n",
    "\t\t\t\t\t\t\t.attr(\"fill\", \"green\")\n",
    "\t\t\t\t\t\t\t.attr(\"x\", (d, i) => i * 16)\n",
    "\t\t\t\t\t\t\t.attr(\"y\", -30)\n",
    "\t\t\t\t\t\t\t.text((d) => d)\n",
    "\t\t\t\t\t\t\t.call((enter) =>\n",
    "\t\t\t\t\t\t\t\tenter.transition(t)\n",
    "\t\t\t\t\t\t\t\t\t.attr(\"y\", 0)\n",
    "\t\t\t\t\t\t\t),\n",
    "\t\t\t\t\t(update) =>\n",
    "\t\t\t\t\t\tupdate\n",
    "\t\t\t\t\t\t\t.attr(\"fill\", \"black\")\n",
    "\t\t\t\t\t\t\t.attr(\"y\", 0)\n",
    "\t\t\t\t\t\t\t.call((update) =>\n",
    "\t\t\t\t\t\t\t\tupdate.transition(t)\n",
    "\t\t\t\t\t\t\t\t\t.attr(\"x\", (d, i) => i * 16)\n",
    "\t\t\t\t\t\t\t),\n",
    "\t\t\t\t\t(exit) =>\n",
    "\t\t\t\t\t\texit\n",
    "\t\t\t\t\t\t\t.attr(\"fill\", \"brown\")\n",
    "\t\t\t\t\t\t\t.call((exit) =>\n",
    "\t\t\t\t\t\t\t\texit.transition(t)\n",
    "\t\t\t\t\t\t\t\t\t.attr(\"y\", 30)\n",
    "\t\t\t\t\t\t\t\t\t.remove()\n",
    "\t\t\t\t\t\t\t),\n",
    "\t\t\t\t);\n",
    "\t\t});\n",
    "\t\tel.appendChild(svg.node());\n",
    "\t},\n",
    "});\n",
    "\n",
    "model;\n"
   ]
  },
  {
   "cell_type": "code",
   "execution_count": 11,
   "metadata": {},
   "outputs": [],
   "source": [
    "let dict = await Deno.readTextFile(\"words.txt\");\n",
    "for (let word of dict.split(\"\\n\")) {\n",
    "\tmodel.set(\"letters\", word);\n",
    "\tawait new Promise((resolve) => setTimeout(resolve, 500));\n",
    "}\n"
   ]
  },
  {
   "cell_type": "code",
   "execution_count": 12,
   "metadata": {},
   "outputs": [
    {
     "ename": "ReferenceError",
     "evalue": "window is not defined",
     "output_type": "error",
     "traceback": [
      "Stack trace:",
      "ReferenceError: window is not defined",
      "    at Object.292../constants (https://cdn.jsdelivr.net/npm/p5@1.9.4/lib/p5.js:60374:50)",
      "    at o (https://cdn.jsdelivr.net/npm/p5@1.9.4/lib/p5.js:40:19)",
      "    at https://cdn.jsdelivr.net/npm/p5@1.9.4/lib/p5.js:42:20",
      "    at Object.286../accessibility/color_namer (https://cdn.jsdelivr.net/npm/p5@1.9.4/lib/p5.js:53949:9)",
      "    at o (https://cdn.jsdelivr.net/npm/p5@1.9.4/lib/p5.js:40:19)",
      "    at r (https://cdn.jsdelivr.net/npm/p5@1.9.4/lib/p5.js:47:87)",
      "    at https://cdn.jsdelivr.net/npm/p5@1.9.4/lib/p5.js:51:9",
      "    at https://cdn.jsdelivr.net/npm/p5@1.9.4/lib/p5.js:18:12",
      "    at https://cdn.jsdelivr.net/npm/p5@1.9.4/lib/p5.js:20:4"
     ]
    }
   ],
   "source": [
    "import \"https://cdn.jsdelivr.net/npm/p5@1.9.4/lib/p5.js\";\n",
    "\n",
    "const sketch = (p: any) => {\n",
    "  let x = 0;\n",
    "  let y = 0;\n",
    "  let speed = 2;\n",
    "  let color: [number, number, number] = [0, 0, 0];\n",
    "\n",
    "  p.setup = () => {\n",
    "    p.createCanvas(800, 400);\n",
    "    x = p.width / 2;\n",
    "    y = p.height / 2;\n",
    "  };\n",
    "\n",
    "  p.draw = () => {\n",
    "    p.background(220);\n",
    "    p.fill(color);\n",
    "    p.ellipse(x, y, 50, 50);\n",
    "    if (p.keyIsDown(p.LEFT_ARROW) === true) {\n",
    "      x -= speed;\n",
    "    }\n",
    "\n",
    "    if (p.keyIsDown(p.RIGHT_ARROW) === true) {\n",
    "      x += speed;\n",
    "    }\n",
    "\n",
    "    if (p.keyIsDown(p.UP_ARROW) === true) {\n",
    "      y -= speed;\n",
    "    }\n",
    "\n",
    "    if (p.keyIsDown(p.DOWN_ARROW) === true) {\n",
    "      y += speed;\n",
    "    }\n",
    "  };\n",
    "\n",
    "  p.mousePressed = () => {\n",
    "    color = [p.random(255), p.random(255), p.random(255)];\n",
    "  };\n",
    "};\n",
    "\n",
    "new p5(sketch);\n"
   ]
  }
 ],
 "metadata": {
  "kernelspec": {
   "display_name": "Deno",
   "language": "typescript",
   "name": "deno"
  },
  "language_info": {
   "codemirror_mode": "typescript",
   "file_extension": ".ts",
   "mimetype": "text/x.typescript",
   "name": "typescript",
   "nbconvert_exporter": "script",
   "pygments_lexer": "typescript",
   "version": "5.6.2"
  }
 },
 "nbformat": 4,
 "nbformat_minor": 2
}
